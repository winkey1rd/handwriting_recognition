{
 "cells": [
  {
   "cell_type": "code",
   "execution_count": 1,
   "id": "ec07d509",
   "metadata": {},
   "outputs": [],
   "source": [
    "import cv2\n",
    "\n",
    "import matplotlib.pyplot as plt\n",
    "import numpy as np\n",
    "import pandas as pd"
   ]
  },
  {
   "cell_type": "markdown",
   "id": "b2efe1c9",
   "metadata": {},
   "source": [
    "Гамма коррекция"
   ]
  },
  {
   "cell_type": "code",
   "execution_count": 2,
   "id": "0947a09e",
   "metadata": {},
   "outputs": [],
   "source": [
    "def imadjust(img, In=(0,1.0), Out=(0,1.0), gamma=1.0):\n",
    "\n",
    "    low_in,high_in = In\n",
    "    low_out, high_out = Out\n",
    " \n",
    "    low_in *= 255.0\n",
    "    high_in *= 255.0\n",
    " \n",
    "    low_out *= 255.0\n",
    "    high_out *= 255.0    \n",
    "    \n",
    "    k = (high_out - low_out) / (high_in - low_in)\n",
    "         # Таблица преобразования гаммы\n",
    "    table = np.array([((i / 255.0) ** gamma) * 255\n",
    "                      for i in np.arange(0, 256)]).astype(\"uint8\")\n",
    "    h,w = img.shape[:2]\n",
    "    imgOut = np.zeros((h,w), np.uint8)\n",
    "    \n",
    "    for r in range(h):\n",
    "        for c in range(w):\n",
    "            if img[r,c] <= low_in:\n",
    "                imgOut[r,c] = low_out                \n",
    "            elif img[r,c] > high_in:\n",
    "                imgOut[r,c] = high_out\n",
    "            else:\n",
    "                res = int(k*(img[r,c]-low_in) + low_out)\n",
    "                imgOut [r, c] = table [res] # Проверить таблицу\n",
    "               \n",
    "    return imgOut"
   ]
  },
  {
   "cell_type": "markdown",
   "id": "a58ce85f",
   "metadata": {},
   "source": [
    "Отображение картинки (по пути/названию)"
   ]
  },
  {
   "cell_type": "code",
   "execution_count": 3,
   "id": "f24b5845",
   "metadata": {},
   "outputs": [],
   "source": [
    "def display(im_path):\n",
    "    dpi = 80\n",
    "    im_data = plt.imread(im_path)\n",
    "\n",
    "    height, width  = im_data.shape[:2]   \n",
    "    figsize = width / float(dpi), height / float(dpi)\n",
    "    \n",
    "    fig = plt.figure(figsize=figsize)\n",
    "    ax = fig.add_axes([0, 0, 1, 1])\n",
    "    ax.axis('off')\n",
    "\n",
    "    ax.imshow(im_data, cmap='gray')\n",
    "    plt.show()"
   ]
  },
  {
   "cell_type": "code",
   "execution_count": 4,
   "id": "c547d688",
   "metadata": {},
   "outputs": [],
   "source": [
    "def display_img(im_data):\n",
    "    dpi = 80\n",
    "\n",
    "    height, width  = im_data.shape[:2]       \n",
    "    figsize = width / float(dpi), height / float(dpi)\n",
    "    \n",
    "    fig = plt.figure(figsize=figsize)\n",
    "    ax = fig.add_axes([0, 0, 1, 1])\n",
    "    ax.axis('off')\n",
    "\n",
    "    ax.imshow(im_data, cmap='gray')\n",
    "    plt.show()"
   ]
  },
  {
   "cell_type": "markdown",
   "id": "f6619a20",
   "metadata": {},
   "source": [
    "Оператор Собеля"
   ]
  },
  {
   "cell_type": "code",
   "execution_count": 5,
   "id": "0c227566",
   "metadata": {},
   "outputs": [],
   "source": [
    "def Sobel(img):\n",
    "    x = cv2.Sobel(img,cv2.CV_16S,1,0)  \n",
    "    y = cv2.Sobel(img,cv2.CV_16S,0,1)  \n",
    "\n",
    "    absX = cv2.convertScaleAbs(x)   # Перенести обратно на uint8  \n",
    "    absY = cv2.convertScaleAbs(y)  \n",
    "\n",
    "    new_img = cv2.addWeighted(absX,0.5,absY,0.5,0)           \n",
    "    return new_img"
   ]
  },
  {
   "cell_type": "markdown",
   "id": "dfb666ba",
   "metadata": {},
   "source": [
    "Отображение гистограммы"
   ]
  },
  {
   "cell_type": "code",
   "execution_count": 5,
   "id": "cb933a4b",
   "metadata": {},
   "outputs": [],
   "source": [
    "def show_hist(img):\n",
    "    hist,bins = np.histogram(img.flatten(),256,[0,256])\n",
    "    cdf = hist.cumsum()\n",
    "    cdf_normalized = cdf * hist.max()/ cdf.max()\n",
    "    fig = plt.figure()\n",
    "    plt.plot(cdf_normalized, color = 'b')\n",
    "    plt.hist(img.flatten(),256,[0,256], color = 'r')\n",
    "    plt.xlim([0,256])\n",
    "    plt.legend(('cdf','histogram'), loc = 'upper left')\n",
    "    #plt.show()\n",
    "    return fig"
   ]
  },
  {
   "cell_type": "markdown",
   "id": "d77749f7",
   "metadata": {},
   "source": [
    "Выравнивание гистограммы"
   ]
  },
  {
   "cell_type": "code",
   "execution_count": 6,
   "id": "8539aefd",
   "metadata": {},
   "outputs": [],
   "source": [
    "def equalizeHist(img):\n",
    "    return cv2.equalizeHist(img)"
   ]
  },
  {
   "cell_type": "markdown",
   "id": "de6d0f4c",
   "metadata": {},
   "source": [
    "Инверсия изображения"
   ]
  },
  {
   "cell_type": "code",
   "execution_count": 7,
   "id": "9ca57495",
   "metadata": {},
   "outputs": [],
   "source": [
    "def invert(img):\n",
    "    return cv2.bitwise_not(img)"
   ]
  },
  {
   "cell_type": "markdown",
   "id": "3d279119",
   "metadata": {},
   "source": [
    "Перевод изображения в градацию серого"
   ]
  },
  {
   "cell_type": "code",
   "execution_count": 8,
   "id": "613e8e25",
   "metadata": {},
   "outputs": [],
   "source": [
    "def grayscale(img):\n",
    "    return cv2.cvtColor(img, cv2.COLOR_BGR2GRAY)"
   ]
  },
  {
   "cell_type": "markdown",
   "id": "c89c8911",
   "metadata": {},
   "source": [
    "Бинаризация изображения"
   ]
  },
  {
   "cell_type": "code",
   "execution_count": 9,
   "id": "b4face99",
   "metadata": {},
   "outputs": [],
   "source": [
    "def binary(img):\n",
    "    thresh, im_bw = cv2.threshold(img, 40, 255, cv2.THRESH_BINARY)\n",
    "    return im_bw"
   ]
  },
  {
   "cell_type": "markdown",
   "id": "b8c11382",
   "metadata": {},
   "source": [
    "Расширение текста"
   ]
  },
  {
   "cell_type": "code",
   "execution_count": 10,
   "id": "e575deda",
   "metadata": {},
   "outputs": [],
   "source": [
    "def thick_font(image):\n",
    "    import numpy as np\n",
    "    image = cv2.bitwise_not(image)\n",
    "    kernel = np.ones((2,2),np.uint8)\n",
    "    image = cv2.dilate(image, kernel, iterations=1)\n",
    "    image = cv2.bitwise_not(image)\n",
    "    return (image)"
   ]
  },
  {
   "cell_type": "markdown",
   "id": "1cee7847",
   "metadata": {},
   "source": [
    "Поиск угла наклона текста"
   ]
  },
  {
   "cell_type": "code",
   "execution_count": 11,
   "id": "1dfe37dc",
   "metadata": {},
   "outputs": [],
   "source": [
    "def getSkewAngle(cvImage) -> float:\n",
    "    \n",
    "    newImage = cvImage.copy()\n",
    "    gray = cv2.cvtColor(newImage, cv2.COLOR_BGR2GRAY)\n",
    "    blur = cv2.GaussianBlur(gray, (9, 9), 0)\n",
    "    thresh = cv2.threshold(blur, 0, 255, cv2.THRESH_BINARY_INV + cv2.THRESH_OTSU)[1]\n",
    "\n",
    "    kernel = cv2.getStructuringElement(cv2.MORPH_RECT, (45, 7))\n",
    "    dilate = cv2.dilate(thresh, kernel, iterations=2)\n",
    "\n",
    "    contours, hierarchy = cv2.findContours(dilate, cv2.RETR_LIST, cv2.CHAIN_APPROX_SIMPLE)\n",
    "    contours = sorted(contours, key = cv2.contourArea, reverse = True)\n",
    "    for c in contours:\n",
    "        rect = cv2.boundingRect(c)\n",
    "        x,y,w,h = rect\n",
    "        cv2.rectangle(newImage,(x,y),(x+w,y+h),(0,255,0),2)\n",
    "\n",
    "    largestContour = contours[0]\n",
    "    print (len(contours))\n",
    "    minAreaRect = cv2.minAreaRect(largestContour)\n",
    "    cv2.imwrite(\"temp/boxes.jpg\", newImage)\n",
    "\n",
    "    angle = minAreaRect[-1]\n",
    "    if angle < -45:\n",
    "        angle = 90 + angle\n",
    "    return -1.0 * angle"
   ]
  },
  {
   "cell_type": "markdown",
   "id": "654443bb",
   "metadata": {},
   "source": [
    "Поворот фото"
   ]
  },
  {
   "cell_type": "code",
   "execution_count": 12,
   "id": "86f6fc13",
   "metadata": {},
   "outputs": [],
   "source": [
    "def rotateImage(cvImage, angle: float):\n",
    "    newImage = cvImage.copy()\n",
    "    (h, w) = newImage.shape[:2]\n",
    "    center = (w // 2, h // 2)\n",
    "    M = cv2.getRotationMatrix2D(center, angle, 1.0)\n",
    "    newImage = cv2.warpAffine(newImage, M, (w, h), flags=cv2.INTER_CUBIC, borderMode=cv2.BORDER_REPLICATE)\n",
    "    return newImage"
   ]
  },
  {
   "cell_type": "markdown",
   "id": "89c4501f",
   "metadata": {},
   "source": [
    "Поворот по углу наклона"
   ]
  },
  {
   "cell_type": "code",
   "execution_count": 13,
   "id": "82421bc4",
   "metadata": {},
   "outputs": [],
   "source": [
    "def deskew(cvImage):\n",
    "    angle = getSkewAngle(cvImage)\n",
    "    return rotateImage(cvImage, -1.0 * angle-90)"
   ]
  },
  {
   "cell_type": "code",
   "execution_count": null,
   "id": "38da1ddd",
   "metadata": {},
   "outputs": [],
   "source": []
  }
 ],
 "metadata": {
  "kernelspec": {
   "display_name": "Python 3 (ipykernel)",
   "language": "python",
   "name": "python3"
  },
  "language_info": {
   "codemirror_mode": {
    "name": "ipython",
    "version": 3
   },
   "file_extension": ".py",
   "mimetype": "text/x-python",
   "name": "python",
   "nbconvert_exporter": "python",
   "pygments_lexer": "ipython3",
   "version": "3.9.7"
  }
 },
 "nbformat": 4,
 "nbformat_minor": 5
}
